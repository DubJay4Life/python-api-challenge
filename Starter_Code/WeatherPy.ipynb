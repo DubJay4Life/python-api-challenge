{
 "cells": [
  {
   "cell_type": "markdown",
   "metadata": {},
   "source": [
    "# WeatherPy\n",
    "\n",
    "---\n",
    "\n",
    "## Starter Code to Generate Random Geographic Coordinates and a List of Cities"
   ]
  },
  {
   "cell_type": "code",
   "execution_count": null,
   "metadata": {
    "scrolled": true
   },
   "outputs": [],
   "source": [
    "# Requests\n",
    "import requests\n",
    "import json\n",
    "import time\n",
    "from pprint import pprint\n",
    "from sklearn.linear_model import LinearRegression\n",
    "\n",
    "# Data Science\n",
    "import pandas as pd\n",
    "import numpy as np\n",
    "import scipy.stats as sc\n",
    "\n",
    "# Visualization\n",
    "import matplotlib.pyplot as plt\n",
    "import seaborn as sns\n",
    "\n",
    "# Impor the OpenWeatherMap API key\n",
    "from api_keys import weather_api_key\n",
    "\n",
    "# Import citipy to determine the cities based on latitude and longitude\n",
    "from citipy import citipy"
   ]
  },
  {
   "cell_type": "markdown",
   "metadata": {},
   "source": [
    "### Generate the Cities List by Using the `citipy` Library"
   ]
  },
  {
   "cell_type": "code",
   "execution_count": null,
   "metadata": {},
   "outputs": [],
   "source": [
    "# Empty list for holding the latitude and longitude combinations\n",
    "lat_lngs = []\n",
    "\n",
    "# Empty list for holding the cities names\n",
    "cities = []\n",
    "\n",
    "# Range of latitudes and longitudes\n",
    "lat_range = (-90, 90)\n",
    "lng_range = (-180, 180)\n",
    "\n",
    "# Create a set of random lat and lng combinations\n",
    "lats = np.random.uniform(lat_range[0], lat_range[1], size=1500)\n",
    "lngs = np.random.uniform(lng_range[0], lng_range[1], size=1500)\n",
    "lat_lngs = zip(lats, lngs)\n",
    "\n",
    "# Identify nearest city for each lat, lng combination\n",
    "for lat_lng in lat_lngs:\n",
    "    city = citipy.nearest_city(lat_lng[0], lat_lng[1]).city_name\n",
    "\n",
    "    # If the city is unique, then add it to a our cities list\n",
    "    if city not in cities:\n",
    "        cities.append(city)\n",
    "\n",
    "# Print the city count to confirm sufficient count\n",
    "print(f\"Number of cities in the list: {len(cities)}\")"
   ]
  },
  {
   "cell_type": "markdown",
   "metadata": {},
   "source": [
    "---"
   ]
  },
  {
   "cell_type": "markdown",
   "metadata": {},
   "source": [
    "## Requirement 1: Create Plots to Showcase the Relationship Between Weather Variables and Latitude\n",
    "\n",
    "### Use the OpenWeatherMap API to retrieve weather data from the cities list generated in the started code"
   ]
  },
  {
   "cell_type": "code",
   "execution_count": null,
   "metadata": {},
   "outputs": [],
   "source": [
    "# Set the API base URL\n",
    "url = \"http://api.openweathermap.org/data/2.5/weather?\"\n",
    "units = \"imperial\"\n",
    "\n",
    "# Define an empty list to fetch the weather data for each city\n",
    "city_data = []\n",
    "\n",
    "# Print to logger\n",
    "print(\"Beginning Data Retrieval     \")\n",
    "print(\"-----------------------------\")\n",
    "\n",
    "# Create counters\n",
    "record_count = 1\n",
    "set_count = 1\n",
    "\n",
    "# Loop through all the cities in our list to fetch weather data\n",
    "for i, city in enumerate(cities):\n",
    "\n",
    "    # Group cities in sets of 50 for logging purposes\n",
    "    if (i % 50 == 0 and i >= 50):\n",
    "        set_count += 1\n",
    "        record_count = 0\n",
    "\n",
    "    # Create endpoint URL with each city\n",
    "    city_url = f\"{url}appid={weather_api_key}&q={city}&units={units}\"\n",
    "\n",
    "    # Log the url, record, and set numbers\n",
    "    print(\"Processing Record %s of Set %s | %s\" % (record_count, set_count, city))\n",
    "\n",
    "    # Add 1 to the record count\n",
    "    record_count += 1\n",
    "\n",
    "    # Run an API request for each of the cities\n",
    "    try:\n",
    "        # Parse the JSON and retrieve data\n",
    "        response = requests.get(city_url)\n",
    "        if (response.status_code==200):\n",
    "            # Extract data\n",
    "            city_weather = response.json()\n",
    "\n",
    "            # Parse out latitude, longitude, max temp, humidity, cloudiness, wind speed, country, and date\n",
    "            city_name = city_weather.get(\"name\")\n",
    "            city_country = city_weather.get(\"sys\", {}).get(\"country\")\n",
    "            city_date = city_weather.get(\"dt\")\n",
    "            city_humidity = city_weather.get(\"main\", {}).get(\"humidity\")\n",
    "            city_max_temp = city_weather.get(\"main\", {}).get(\"temp\")\n",
    "            city_pressure = city_weather.get(\"main\", {}).get(\"pressure\")\n",
    "            city_clouds = city_weather.get(\"clouds\", {}).get(\"all\")\n",
    "            city_wind = city_weather.get(\"wind\", {}).get(\"speed\")\n",
    "    \n",
    "            city_lat = city_weather.get(\"coord\", {}).get(\"lat\")\n",
    "            city_lng = city_weather.get(\"coord\", {}).get(\"lon\")\n",
    "            \n",
    "            \n",
    "\n",
    "            # Append the City information into city_data list\n",
    "            city_data.append({\"City\": city_name,\n",
    "                          \"Lat\": city_lat,\n",
    "                          \"Lng\": city_lng,\n",
    "                          \"Max Temp\": city_max_temp,\n",
    "                          \"Humidity\": city_humidity,\n",
    "                          \"Cloudiness\": city_clouds,\n",
    "                          \"Wind Speed\": city_wind,\n",
    "                          \"Pressure\": city_pressure,\n",
    "                          \"Country\": city_country,\n",
    "                          \"Date\": city_date})\n",
    "        else:\n",
    "            print(f\"YO! The API threw a non-200 status code: {response['status_code']} for city {city}\") # error log\n",
    "            print()\n",
    "     # If an error is experienced, skip the city\n",
    "    except:\n",
    "        print(\"City not found. Skipping...\")\n",
    "        pass\n",
    "\n",
    "    # pause to avoid rate limiting\n",
    "    time.sleep(1)\n",
    "\n",
    "# Indicate that Data Loading is complete\n",
    "print(\"-----------------------------\")\n",
    "print(\"Data Retrieval Complete      \")\n",
    "print(\"-----------------------------\")"
   ]
  },
  {
   "cell_type": "code",
   "execution_count": null,
   "metadata": {},
   "outputs": [],
   "source": [
    "# Convert the cities weather data into a Pandas DataFrame\n",
    "city_data_df = pd.DataFrame(city_data)\n",
    "\n",
    "# Show Record Count\n",
    "city_data_df.count()"
   ]
  },
  {
   "cell_type": "code",
   "execution_count": null,
   "metadata": {},
   "outputs": [],
   "source": [
    "# Display sample data\n",
    "city_data_df.head()"
   ]
  },
  {
   "cell_type": "code",
   "execution_count": null,
   "metadata": {},
   "outputs": [],
   "source": [
    "# Export the City_Data into a csv\n",
    "city_data_df.to_csv(\"output_data/cities.csv\", index_label=\"City_ID\")"
   ]
  },
  {
   "cell_type": "code",
   "execution_count": null,
   "metadata": {},
   "outputs": [],
   "source": [
    "# Read saved data\n",
    "df = pd.read_csv(\"output_data/cities.csv\", index_col=\"City_ID\")\n",
    "\n",
    "# Display sample data\n",
    "df.head()"
   ]
  },
  {
   "cell_type": "markdown",
   "metadata": {},
   "source": [
    "### Create the Scatter Plots Requested\n",
    "\n",
    "#### Latitude Vs. Temperature"
   ]
  },
  {
   "cell_type": "code",
   "execution_count": null,
   "metadata": {
    "tags": []
   },
   "outputs": [],
   "source": [
    "# Build scatter plot for latitude vs. temperate\n",
    "\n",
    "# Change Canvas Size\n",
    "plt.figure(figsize=(12, 6))\n",
    "\n",
    "# Create a basic plot\n",
    "plt.scatter(df.Lat, df[\"Max Temp\"], color=\"orange\", edgecolor=\"black\", s=200)\n",
    "\n",
    "# Customizations\n",
    "\n",
    "# Change colors\n",
    "# Add in reference lines\n",
    "# Add Labels/Title\n",
    "plt.xlabel(\"Latitude\", fontfamily=\"Arial\", fontsize=12)\n",
    "plt.ylabel(\"Temperature\", fontfamily=\"Arial\", fontsize=12)\n",
    "plt.title(\"Latitude vs Temperature\", fontweight=\"bold\", fontsize=16, fontfamily=\"Arial\")\n",
    "\n",
    "\n",
    "# Add in a background grid\n",
    "plt.grid(linestyle=\"--\", color=\"lightgrey\", alpha=0.75)\n",
    "\n",
    "# Save the figure\n",
    "plt.savefig(\"output_data/Fig1.png\")\n",
    "\n",
    "# Show plot\n",
    "plt.show()"
   ]
  },
  {
   "cell_type": "markdown",
   "metadata": {},
   "source": [
    "#### Latitude Vs. Humidity"
   ]
  },
  {
   "cell_type": "code",
   "execution_count": null,
   "metadata": {},
   "outputs": [],
   "source": [
    "# Build the scatter plots for latitude vs. humidity\n",
    "\n",
    "# Change Canvas Size\n",
    "plt.figure(figsize=(12, 6))\n",
    "\n",
    "# Create a basic plot\n",
    "plt.scatter(df.Lat, df[\"Humidity\"], color=\"orange\", edgecolor=\"black\", s=200)\n",
    "\n",
    "# Customizations\n",
    "\n",
    "# Change colors\n",
    "# Add in reference lines\n",
    "# Add Labels/Title\n",
    "plt.xlabel(\"Latitude\", fontfamily=\"Arial\", fontsize=12)\n",
    "plt.ylabel(\"Humidity\", fontfamily=\"Arial\", fontsize=12)\n",
    "plt.title(\"Latitude vs Humidity\", fontweight=\"bold\", fontsize=16, fontfamily=\"Arial\")\n",
    "\n",
    "\n",
    "# Add in a background grid\n",
    "plt.grid(linestyle=\"--\", color=\"lightgrey\", alpha=0.75)\n",
    "\n",
    "# Save the figure\n",
    "# plt.savefig(\"output_data/Fig2.png\")\n",
    "\n",
    "# Show plot\n",
    "plt.show()"
   ]
  },
  {
   "cell_type": "markdown",
   "metadata": {},
   "source": [
    "#### Latitude Vs. Cloudiness"
   ]
  },
  {
   "cell_type": "code",
   "execution_count": null,
   "metadata": {},
   "outputs": [],
   "source": [
    "# Build the scatter plots for latitude vs. cloudiness\n",
    "\n",
    "# Change Canvas Size\n",
    "plt.figure(figsize=(12, 6))\n",
    "\n",
    "# Create a basic plot\n",
    "plt.scatter(df.Lat, df[\"Cloudiness\"], color=\"orange\", edgecolor=\"black\", s=200)\n",
    "\n",
    "# Customizations\n",
    "\n",
    "# Change colors\n",
    "# Add in reference lines\n",
    "# Add Labels/Title\n",
    "plt.xlabel(\"Latitude\", fontfamily=\"Arial\", fontsize=12)\n",
    "plt.ylabel(\"Cloudiness\", fontfamily=\"Arial\", fontsize=12)\n",
    "plt.title(\"Latitude vs Cloudiness\", fontweight=\"bold\", fontsize=16, fontfamily=\"Arial\")\n",
    "\n",
    "\n",
    "# Add in a background grid\n",
    "plt.grid(linestyle=\"--\", color=\"lightgrey\", alpha=0.75)\n",
    "\n",
    "# Save the figure\n",
    "# plt.savefig(\"output_data/Fig2.png\")\n",
    "\n",
    "# Show plot\n",
    "plt.show()"
   ]
  },
  {
   "cell_type": "markdown",
   "metadata": {},
   "source": [
    "#### Latitude vs. Wind Speed Plot"
   ]
  },
  {
   "cell_type": "code",
   "execution_count": null,
   "metadata": {},
   "outputs": [],
   "source": [
    "# Build the scatter plots for latitude vs. wind speed\n",
    "\n",
    "# Change Canvas Size\n",
    "plt.figure(figsize=(12, 6))\n",
    "\n",
    "# Create a basic plot\n",
    "plt.scatter(df.Lat, df[\"Wind Speed\"], color=\"orange\", edgecolor=\"black\", s=200)\n",
    "\n",
    "# Customizations\n",
    "\n",
    "# Change colors\n",
    "# Add in reference lines\n",
    "# Add Labels/Title\n",
    "plt.xlabel(\"Latitude\", fontfamily=\"Arial\", fontsize=12)\n",
    "plt.ylabel(\"Wind Speed\", fontfamily=\"Arial\", fontsize=12)\n",
    "plt.title(\"Latitude vs Wind Speed\", fontweight=\"bold\", fontsize=16, fontfamily=\"Arial\")\n",
    "\n",
    "\n",
    "# Add in a background grid\n",
    "plt.grid(linestyle=\"--\", color=\"lightgrey\", alpha=0.75)\n",
    "\n",
    "# Save the figure\n",
    "# plt.savefig(\"output_data/Fig2.png\")\n",
    "\n",
    "# Show plot\n",
    "plt.show()"
   ]
  },
  {
   "cell_type": "markdown",
   "metadata": {},
   "source": [
    "---\n",
    "\n",
    "## Requirement 2: Compute Linear Regression for Each Relationship\n"
   ]
  },
  {
   "cell_type": "code",
   "execution_count": null,
   "metadata": {},
   "outputs": [],
   "source": [
    "# Define a function to create Linear Regression plots\n",
    "\n",
    "def do_regression_plot(x_values, y_values, x_label, y_label, annotation):\n",
    "    # do regression\n",
    "    (slope, intercept, rvalue, pvalue, stderr) = sc.linregress(x_values, y_values)\n",
    "    regress_values = x_values * slope + intercept # these are the points/predictions\n",
    "    line_eq = \"y = \" + str(round(slope,2)) + \"x + \" + str(round(intercept,2))\n",
    "    print(rvalue)\n",
    "    print(line_eq)\n",
    "\n",
    "    # Change Canvas Size\n",
    "    plt.figure(figsize=(12, 6))\n",
    "    \n",
    "    # Create a basic plot\n",
    "    plt.scatter(x_values, y_values, color=\"orange\", edgecolor=\"black\", s=200)\n",
    "    plt.plot(df.Lat, regress_values, color=\"black\", linewidth=6) # the regression line\n",
    "    \n",
    "    # Customizations\n",
    "    \n",
    "    # Change colors\n",
    "    # Add in reference lines\n",
    "    # Add Labels/Title\n",
    "    plt.xlabel(x_label, fontfamily=\"Arial\", fontsize=12)\n",
    "    plt.ylabel(y_label, fontfamily=\"Arial\", fontsize=12)\n",
    "    plt.title(f\"{x_label} vs {y_label}\", fontweight=\"bold\", fontsize=16, fontfamily=\"Arial\")\n",
    "    \n",
    "    # Add in a background grid\n",
    "    plt.grid(linestyle=\"--\", color=\"lightgrey\", alpha=0.75)\n",
    "    \n",
    "    # Annotate\n",
    "    plt.annotate(line_eq, annotation, fontsize=15, color=\"black\")\n",
    "    \n",
    "    # Show/Save the Graph\n",
    "    plt.show()"
   ]
  },
  {
   "cell_type": "code",
   "execution_count": null,
   "metadata": {},
   "outputs": [],
   "source": [
    "# Create a DataFrame with the Northern Hemisphere data (Latitude >= 0)\n",
    "northern_hemi_df = df.loc[df.Lat >= 0].reset_index(drop=True)\n",
    "\n",
    "# Display sample data\n",
    "northern_hemi_df.head()"
   ]
  },
  {
   "cell_type": "code",
   "execution_count": null,
   "metadata": {},
   "outputs": [],
   "source": [
    "# Create a DataFrame with the Southern Hemisphere data (Latitude < 0)\n",
    "southern_hemi_df = df.loc[df.Lat < 0].reset_index(drop=True)\n",
    "\n",
    "# Display sample data\n",
    "southern_hemi_df.head()"
   ]
  },
  {
   "cell_type": "markdown",
   "metadata": {},
   "source": [
    "###  Temperature vs. Latitude Linear Regression Plot"
   ]
  },
  {
   "cell_type": "code",
   "execution_count": null,
   "metadata": {},
   "outputs": [],
   "source": [
    "# Linear regression on Northern Hemisphere\n",
    "x_values = northern_hemi_df.Lat\n",
    "y_values = northern_hemi_df[\"Max Temp\"]\n",
    "x_label = \"Latitude\"\n",
    "y_label = \"Max Temp\"\n",
    "annotation = (5, 0)\n",
    "\n",
    "do_regression_plot(x_values, y_values, x_label, y_label, annotation)"
   ]
  },
  {
   "cell_type": "code",
   "execution_count": null,
   "metadata": {},
   "outputs": [],
   "source": [
    "# Linear regression on Southern Hemisphere\n",
    "x_values = southern_hemi_df.Lat\n",
    "y_values = southern_hemi_df[\"Max Temp\"]\n",
    "x_label = \"Latitude\"\n",
    "y_label = \"Max Temperature\"\n",
    "annotation = (5, 0)\n",
    "\n",
    "do_regression_plot(x_values, y_values, x_label, y_label, annotation)"
   ]
  },
  {
   "cell_type": "markdown",
   "metadata": {},
   "source": [
    "**Discussion about the linear relationship:** YOUR RESPONSE HERE"
   ]
  },
  {
   "cell_type": "markdown",
   "metadata": {},
   "source": [
    "### Humidity vs. Latitude Linear Regression Plot"
   ]
  },
  {
   "cell_type": "code",
   "execution_count": null,
   "metadata": {},
   "outputs": [],
   "source": [
    "# Northern Hemisphere\n",
    "# x_values = northern_hemi_df.Lat\n",
    "x_values = northern_hemi_df.Lat\n",
    "y_values = northern_hemi_df[\"Humidity\"]\n",
    "x_label = \"Latitude\"\n",
    "y_label = \"Humidity\"\n",
    "annotation = (5, 35)\n",
    "\n",
    "# Call the regression plot function\n",
    "do_regression_plot(x_values, y_values, x_label, y_label, annotation)"
   ]
  },
  {
   "cell_type": "code",
   "execution_count": null,
   "metadata": {},
   "outputs": [],
   "source": [
    "# Southern Hemisphere\n",
    "x_values = southern_hemi_df.Lat\n",
    "y_values = southern_hemi_df[\"Humidity\"]\n",
    "x_label = \"Latitude\"\n",
    "y_label = \"Humidity\"\n",
    "annotation = (530, 350)\n",
    "\n",
    "do_regression_plot(x_values, y_values, x_label, y_label, annotation)"
   ]
  },
  {
   "cell_type": "markdown",
   "metadata": {},
   "source": [
    "**Discussion about the linear relationship:** YOUR RESPONSE HERE"
   ]
  },
  {
   "cell_type": "markdown",
   "metadata": {},
   "source": [
    "### Cloudiness vs. Latitude Linear Regression Plot"
   ]
  },
  {
   "cell_type": "code",
   "execution_count": null,
   "metadata": {},
   "outputs": [],
   "source": [
    "# Northern Hemisphere\n",
    "x_values = northern_hemi_df.Lat\n",
    "y_values = northern_hemi_df[\"Cloudiness\"]\n",
    "x_label = \"Latitude\"\n",
    "y_label = \"Cloudiness\"\n",
    "annotation = (5, 0)\n",
    "\n",
    "do_regression_plot(x_values, y_values, x_label, y_label, annotation)"
   ]
  },
  {
   "cell_type": "code",
   "execution_count": null,
   "metadata": {},
   "outputs": [],
   "source": [
    "# Southern Hemisphere\n",
    "x_values = southern_hemi_df.Lat\n",
    "y_values = southern_hemi_df[\"Cloudiness\"]\n",
    "x_label = \"Latitude\"\n",
    "y_label = \"Cloudiness\"\n",
    "annotation = (530, 350)\n",
    "\n",
    "do_regression_plot(x_values, y_values, x_label, y_label, annotation)"
   ]
  },
  {
   "cell_type": "markdown",
   "metadata": {},
   "source": [
    "**Discussion about the linear relationship:** YOUR RESPONSE HERE"
   ]
  },
  {
   "cell_type": "markdown",
   "metadata": {},
   "source": [
    "### Wind Speed vs. Latitude Linear Regression Plot"
   ]
  },
  {
   "cell_type": "code",
   "execution_count": null,
   "metadata": {},
   "outputs": [],
   "source": [
    "# Northern Hemisphere\n",
    "x_values = northern_hemi_df.Lat\n",
    "y_values = northern_hemi_df[\"Wind Speed\"]\n",
    "x_label = \"Latitude\"\n",
    "y_label = \"Wind Speed\"\n",
    "annotation = (5, 0)\n",
    "\n",
    "do_regression_plot(x_values, y_values, x_label, y_label, annotation)"
   ]
  },
  {
   "cell_type": "code",
   "execution_count": null,
   "metadata": {},
   "outputs": [],
   "source": [
    "# Southern Hemisphere\n",
    "x_values = southern_hemi_df.Lat\n",
    "y_values = southern_hemi_df[\"Wind Speed\"]\n",
    "x_label = \"Latitude\"\n",
    "y_label = \"Wind Speed\"\n",
    "annotation = (5, 0)\n",
    "\n",
    "do_regression_plot(x_values, y_values, x_label, y_label, annotation)"
   ]
  },
  {
   "cell_type": "markdown",
   "metadata": {},
   "source": [
    "**Discussion about the linear relationship:** YOUR RESPONSE HERE"
   ]
  },
  {
   "cell_type": "code",
   "execution_count": null,
   "metadata": {},
   "outputs": [],
   "source": []
  }
 ],
 "metadata": {
  "anaconda-cloud": {},
  "kernel_info": {
   "name": "python3"
  },
  "kernelspec": {
   "display_name": "Python 3 (ipykernel)",
   "language": "python",
   "name": "python3"
  },
  "language_info": {
   "codemirror_mode": {
    "name": "ipython",
    "version": 3
   },
   "file_extension": ".py",
   "mimetype": "text/x-python",
   "name": "python",
   "nbconvert_exporter": "python",
   "pygments_lexer": "ipython3",
   "version": "3.11.10"
  },
  "latex_envs": {
   "LaTeX_envs_menu_present": true,
   "autoclose": false,
   "autocomplete": true,
   "bibliofile": "biblio.bib",
   "cite_by": "apalike",
   "current_citInitial": 1,
   "eqLabelWithNumbers": true,
   "eqNumInitial": 1,
   "hotkeys": {
    "equation": "Ctrl-E",
    "itemize": "Ctrl-I"
   },
   "labels_anchors": false,
   "latex_user_defs": false,
   "report_style_numbering": false,
   "user_envs_cfg": false
  },
  "nteract": {
   "version": "0.12.3"
  }
 },
 "nbformat": 4,
 "nbformat_minor": 4
}
